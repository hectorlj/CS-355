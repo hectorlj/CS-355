{
 "cells": [
  {
   "cell_type": "markdown",
   "metadata": {
    "collapsed": true
   },
   "source": [
    "## Welcome to Jupyter Notebook\n",
    "Welcome to Jupyter Notebook, one of the many ways that you can use Python. Jupyter notebooks run lines of code in what are called **cells**. This makes it convenient to run certain lines of code and see the output of those lines of code in real time.\n",
    "To run a cell of code, simply press Shift + Enter."
   ]
  },
  {
   "cell_type": "markdown",
   "metadata": {},
   "source": [
    "### Python Functions\n",
    "Python is a dynamically typed language, meaning you don't have to declare the types of variables. These are determined at run time.\n",
    "Also, Python uses spacing to determine scopes and groupings. For example, when you write a function, it will look like this:"
   ]
  },
  {
   "cell_type": "code",
   "execution_count": 1,
   "metadata": {},
   "outputs": [
    {
     "name": "stdout",
     "output_type": "stream",
     "text": [
      "Hello World\n"
     ]
    }
   ],
   "source": [
    "#Function definition\n",
    "def helloWorld():\n",
    "    print(\"Hello World\")\n",
    "\n",
    "    \n",
    "#Calling the function\n",
    "helloWorld()"
   ]
  },
  {
   "cell_type": "markdown",
   "metadata": {},
   "source": [
    "Note that the **def** means we are defining a function. The colon is necessary for defining what is part of the function. Also, everything that is part of the function needs to be spaced separately (convention is 4 spaces or a tab). Spacing is the number one reason for code not working."
   ]
  },
  {
   "cell_type": "markdown",
   "metadata": {
    "collapsed": true
   },
   "source": [
    "### Tuples\n",
    "One of Python's useful capabilities is its ability to pass and return tuples. For example, if you need to return two pieces of information from a function, you simply can name the two pieces of information and treat them as a tuple."
   ]
  },
  {
   "cell_type": "code",
   "execution_count": 2,
   "metadata": {},
   "outputs": [
    {
     "name": "stdout",
     "output_type": "stream",
     "text": [
      "('My perimeter is', 40, 'and my area is', 100, '.')\n"
     ]
    }
   ],
   "source": [
    "def rectangleInfo(width, height):\n",
    "    perimeter = 2*width + 2*height\n",
    "    area = width * height\n",
    "    return perimeter, area\n",
    "\n",
    "myPerimeter, myArea = rectangleInfo(10,10)\n",
    "print(\"My perimeter is\", myPerimeter, \"and my area is\", myArea, \".\")"
   ]
  },
  {
   "cell_type": "markdown",
   "metadata": {},
   "source": [
    "### Default Parameters\n",
    "Lastly, Python has a very simple default parameter value system. To state a default parameter, simply state what that parameter would be equal to if no parameter is given in the function description."
   ]
  },
  {
   "cell_type": "code",
   "execution_count": 3,
   "metadata": {},
   "outputs": [
    {
     "name": "stdout",
     "output_type": "stream",
     "text": [
      "1,2,3,4,5,6,7,8,9,10\n",
      "2,4,6,8,10,12,14,16,18,20\n",
      "1,3,5,7,9,11,13,15,17,19\n"
     ]
    }
   ],
   "source": [
    "def countByNum(startingNumber=1,stepSize=1,numIters=10):\n",
    "    text = \"\"\n",
    "    count = startingNumber\n",
    "    for i in range(0,numIters):\n",
    "        text += str(count)\n",
    "        if i < numIters-1:\n",
    "            text += \",\"\n",
    "        count += stepSize\n",
    "    print(text)\n",
    "\n",
    "#The different ways to use default parameters \n",
    "countByNum()\n",
    "countByNum(2, 2)\n",
    "countByNum(stepSize=2)"
   ]
  },
  {
   "cell_type": "markdown",
   "metadata": {},
   "source": [
    "## Function 1: General Fibonaci Sequence\n",
    "Write a function that takes in the number **n** (or *num*) and it returns the **(n-1)th** and **nth** Fibonacci numbers. Also, allow for the user to specify the **0th** and **1st** Fibonacci numbers that start off the sequence, but they should default to the standard ($n_0$=1 and $n_1$=1)."
   ]
  },
  {
   "cell_type": "code",
   "execution_count": 24,
   "metadata": {},
   "outputs": [],
   "source": [
    "#Your code here\n",
    "def fibonacci(num, n0=1, n1=1):\n",
    "    count = 1\n",
    "    while count < num:\n",
    "        result = n0 + n1\n",
    "        n0 = n1\n",
    "        n1 = result\n",
    "        count += 1\n",
    "    return n0, n1\n"
   ]
  },
  {
   "cell_type": "markdown",
   "metadata": {},
   "source": [
    "To test that your code is working, try finding the 6th and 5th Fibonacci numbers for $n_0 = 2$ and $n_1 = 2$. You should get 16 and 26 because the sequence would be (2, 2, 4, 6, 10, 16, 26).\n",
    "The second print statement is how we will grade that you completed the task. **Do not delete any given test cases**."
   ]
  },
  {
   "cell_type": "code",
   "execution_count": 25,
   "metadata": {},
   "outputs": [
    {
     "name": "stdout",
     "output_type": "stream",
     "text": [
      "(16, 26)\n",
      "(55, 89)\n",
      "(196418, 317811)\n"
     ]
    }
   ],
   "source": [
    "#Test Cases\n",
    "print( fibonacci(6, 2, 2) )\n",
    "print( fibonacci(10) )\n",
    "print( fibonacci(24, 3, 5) )"
   ]
  },
  {
   "cell_type": "markdown",
   "metadata": {},
   "source": [
    "# -------------------------------------------------------"
   ]
  },
  {
   "cell_type": "markdown",
   "metadata": {},
   "source": [
    "### Data Structures - Lists\n",
    "Python has two primary types of data structures built in: lists and dictionaries. These data types are the most commonly used for Python methods and programming. Other types of data structures can be imported as needed. Let's start with lists."
   ]
  },
  {
   "cell_type": "code",
   "execution_count": 26,
   "metadata": {},
   "outputs": [
    {
     "name": "stdout",
     "output_type": "stream",
     "text": [
      "[10, 3, 4, 7]\n"
     ]
    }
   ],
   "source": [
    "myList = [] #Square brackets initialize a list\n",
    "\n",
    "#Add elements to the list\n",
    "myList.append(3)\n",
    "myList.append(4)\n",
    "myList.append(7)\n",
    "#Insert the number 10 at the 0th index\n",
    "myList.insert(0, 10)\n",
    "\n",
    "print(myList)"
   ]
  },
  {
   "cell_type": "code",
   "execution_count": 27,
   "metadata": {},
   "outputs": [
    {
     "name": "stdout",
     "output_type": "stream",
     "text": [
      "[1, 2, 3, 4, 5, 6, 7, 8, 9, 10]\n"
     ]
    }
   ],
   "source": [
    "#List concatenation is very easy\n",
    "print([1,2,3,4,5] + [6,7,8,9,10])"
   ]
  },
  {
   "cell_type": "code",
   "execution_count": 28,
   "metadata": {},
   "outputs": [
    {
     "name": "stdout",
     "output_type": "stream",
     "text": [
      "3\n",
      "7\n"
     ]
    }
   ],
   "source": [
    "#Accessing an element in a list\n",
    "print(myList[1])\n",
    "#Grab the last element in a list\n",
    "print(myList[-1])"
   ]
  },
  {
   "cell_type": "code",
   "execution_count": 29,
   "metadata": {},
   "outputs": [
    {
     "name": "stdout",
     "output_type": "stream",
     "text": [
      "[10, 3, 4, 7]\n",
      "[10, 3]\n"
     ]
    }
   ],
   "source": [
    "#Grab all elements in a list\n",
    "print(myList[:])\n",
    "#Grap a certain section of the list  \n",
    "print(myList[0:2])"
   ]
  },
  {
   "cell_type": "markdown",
   "metadata": {},
   "source": [
    "**Warning: Python excludes the last number in a range, as shown above. This is different from most common programming languages.** To see this, run the following code."
   ]
  },
  {
   "cell_type": "code",
   "execution_count": 30,
   "metadata": {},
   "outputs": [
    {
     "name": "stdout",
     "output_type": "stream",
     "text": [
      "[0, 1, 2, 3, 4, 5, 6, 7, 8, 9]\n"
     ]
    }
   ],
   "source": [
    "a = range(0,10)\n",
    "print(list(a))"
   ]
  },
  {
   "cell_type": "markdown",
   "metadata": {},
   "source": [
    "Going back to lists, Python has a very powerful list accessing system known as slice notation. It can be summarized as\n",
    "\n",
    "**[ first element to include : first element to exclude : step ]**\n",
    "\n",
    "Some common examples are given below."
   ]
  },
  {
   "cell_type": "code",
   "execution_count": 31,
   "metadata": {},
   "outputs": [
    {
     "name": "stdout",
     "output_type": "stream",
     "text": [
      "[0, 1, 2, 3, 4, 5, 6, 7, 8, 9]\n"
     ]
    }
   ],
   "source": [
    "myList2 = list(range(0,10))\n",
    "print(myList2)"
   ]
  },
  {
   "cell_type": "code",
   "execution_count": 32,
   "metadata": {},
   "outputs": [
    {
     "name": "stdout",
     "output_type": "stream",
     "text": [
      "[0, 2, 4, 6, 8]\n",
      "[0, 2, 4]\n",
      "[9, 8, 7, 6, 5, 4, 3, 2, 1, 0]\n"
     ]
    }
   ],
   "source": [
    "#Grab every other element in the list\n",
    "print(myList2[::2])\n",
    "\n",
    "#Grab every other element for the first 5 numbers\n",
    "print(myList2[0:5:2])\n",
    "\n",
    "#Reverse the list\n",
    "print(myList2[::-1])"
   ]
  },
  {
   "cell_type": "markdown",
   "metadata": {},
   "source": [
    "In Python, for loops are designed with lists in mind. You can see some examples below."
   ]
  },
  {
   "cell_type": "code",
   "execution_count": 33,
   "metadata": {},
   "outputs": [
    {
     "name": "stdout",
     "output_type": "stream",
     "text": [
      "46\n"
     ]
    }
   ],
   "source": [
    "myList3 = [1, 5, 8, 19, 7, 6]\n",
    "total = 0\n",
    "\n",
    "# You may be tempted to do this\n",
    "length = len(myList3)\n",
    "\n",
    "for i in range(0, length):\n",
    "    num = myList3[i]\n",
    "    total += num\n",
    "    \n",
    "print(total)"
   ]
  },
  {
   "cell_type": "markdown",
   "metadata": {},
   "source": [
    "That is a very Java type way of doing list iteration, but there are better ways in Python. For example:"
   ]
  },
  {
   "cell_type": "code",
   "execution_count": 34,
   "metadata": {},
   "outputs": [
    {
     "name": "stdout",
     "output_type": "stream",
     "text": [
      "46\n"
     ]
    }
   ],
   "source": [
    "#It is much faster to do this\n",
    "total = 0\n",
    "\n",
    "for num in myList3:\n",
    "    total += num\n",
    "\n",
    "print(total)"
   ]
  },
  {
   "cell_type": "markdown",
   "metadata": {},
   "source": [
    "Note that Python can give you elements of a list as the iterator through a for loop. This is very helpful in many problems.\n",
    "\n",
    "For more help with lists, you can visit https://docs.python.org/3/tutorial/datastructures.html"
   ]
  },
  {
   "cell_type": "markdown",
   "metadata": {},
   "source": [
    "## Function 2: List Manipulation\n",
    "Write a function called listShift. This function should take the second half of a list, reverse it, and reappend it to the front of the list. For example,\n",
    "\n",
    "[1, 2, 3, 4, 5, 6, 7, 8, 9]  would become [9,8,7,6,1,2,3,4,5]\n",
    "\n",
    "As shown, odd number lists should not include the middle element in the reversed list.\n",
    "\n",
    "Hint: This is a lot easier if you don't use a for loop."
   ]
  },
  {
   "cell_type": "code",
   "execution_count": 46,
   "metadata": {},
   "outputs": [],
   "source": [
    "#Your code here\n",
    "def listShift(myList):\n",
    "    half = len(myList)/2\n",
    "    halftest = half * 2\n",
    "    if len(myList) == halftest:\n",
    "        myList2 = myList[:half-1:-1]\n",
    "    else:\n",
    "        myList2 = myList[:half:-1]\n",
    "    myList = myList[:len(myList) - half:]\n",
    "    myList2 += myList\n",
    "    return myList2"
   ]
  },
  {
   "cell_type": "code",
   "execution_count": 47,
   "metadata": {},
   "outputs": [
    {
     "name": "stdout",
     "output_type": "stream",
     "text": [
      "[9, 8, 7, 6, 1, 2, 3, 4, 5]\n",
      "[1, 2, 3, 4, 5, 6, 7, 8, 9, 10, 10, 9, 8, 7, 6, 5, 4, 3, 2, 1]\n"
     ]
    }
   ],
   "source": [
    "#Test Case\n",
    "print(listShift([1,2,3,4,5,6,7,8,9]))\n",
    "print(listShift([10,9,8,7,6,5,4,3,2,1,10,9,8,7,6,5,4,3,2,1]))"
   ]
  },
  {
   "cell_type": "markdown",
   "metadata": {},
   "source": [
    "# -----------------------------------------------------"
   ]
  },
  {
   "cell_type": "markdown",
   "metadata": {},
   "source": [
    "### Data Structures - Dictionaries\n",
    "We won't be using dictionaries as much in this class, but would be an injustice if you didn't get some exposure to them. They are one of the most powerful constructs in Python. The dictionary data structure is also sometimes known as a map data structure in other languages."
   ]
  },
  {
   "cell_type": "code",
   "execution_count": 48,
   "metadata": {},
   "outputs": [
    {
     "name": "stdout",
     "output_type": "stream",
     "text": [
      "{'City': 'Provo', 'University': 'BYU'}\n"
     ]
    }
   ],
   "source": [
    "myDictionary = {} #Curly brackets initialize a dictionary\n",
    "\n",
    "#Add elements to dictionary using key/value system\n",
    "myDictionary[\"University\"] = \"BYU\"\n",
    "myDictionary[\"City\"] = \"Provo\"\n",
    "\n",
    "print(myDictionary)"
   ]
  },
  {
   "cell_type": "code",
   "execution_count": 49,
   "metadata": {},
   "outputs": [
    {
     "name": "stdout",
     "output_type": "stream",
     "text": [
      "{'Grade': '1', 'Age': 7, 'Name': 'Zara'}\n",
      "1\n",
      "7\n",
      "Zara\n",
      "{'Age': 7, 'Name': 'Zara'}\n",
      "{}\n"
     ]
    }
   ],
   "source": [
    "#Another way to instatiate a dictionary\n",
    "myDictionary2 = {'Name': 'Zara', 'Age': 7, 'Grade': '1'}\n",
    "print(myDictionary2)\n",
    "\n",
    "#Go through data in a dictionary\n",
    "for key in myDictionary2:\n",
    "    print(myDictionary2[key])\n",
    "\n",
    "#Remove data\n",
    "del myDictionary2[\"Grade\"]\n",
    "print(myDictionary2)\n",
    "\n",
    "myDictionary2.clear()\n",
    "print(myDictionary2)"
   ]
  },
  {
   "cell_type": "markdown",
   "metadata": {},
   "source": [
    "### Python Classes\n",
    "Python can use object oriented programming through the use of classes like most languages. However, the syntax for classes is very unique to Python.\n",
    "\n",
    "Below is an example of a class in Python."
   ]
  },
  {
   "cell_type": "code",
   "execution_count": 50,
   "metadata": {},
   "outputs": [
    {
     "name": "stdout",
     "output_type": "stream",
     "text": [
      "157.079632679\n",
      "1963.49540849\n",
      "37.5\n"
     ]
    }
   ],
   "source": [
    "from math import pi\n",
    "\n",
    "class Circle():\n",
    "    \n",
    "    def __init__(self, radius, center_x=0.0, center_y=0.0):\n",
    "        self.radius = radius\n",
    "        self.x = center_x\n",
    "        self.y = center_y\n",
    "        \n",
    "    def getCircumference(self):\n",
    "        return 2*pi*self.radius\n",
    "    \n",
    "    def getArea(self):\n",
    "        return pi*self.radius**2\n",
    "    \n",
    "    def getArc(self, angle):\n",
    "        return self.radius * angle\n",
    "    \n",
    "myCirc = Circle(25)\n",
    "print(myCirc.getCircumference())\n",
    "print(myCirc.getArea())\n",
    "print(myCirc.getArc(1.5))"
   ]
  },
  {
   "cell_type": "markdown",
   "metadata": {},
   "source": [
    "Note the keyword **class** is used to start the definition. The constructor for the class is always defined within the **__init__** function. Any other functions can be named as needed.\n",
    "\n",
    "Also, note that the keyword **self** must be passed into each function. This is where the variables for the class are stored. You can think of it similar to the **this** keyword in Java. However, note that this variable does not need to be passed in on call, only definition."
   ]
  },
  {
   "cell_type": "markdown",
   "metadata": {},
   "source": [
    "### Inheritance\n",
    "Classes can also inherit methods and properties from other classes. This can be done by placing the name of the super class in the parenthesis of the class defintion. These super classes can also have abstract methods by using the keyword **pass**."
   ]
  },
  {
   "cell_type": "code",
   "execution_count": 51,
   "metadata": {},
   "outputs": [
    {
     "name": "stdout",
     "output_type": "stream",
     "text": [
      "40\n"
     ]
    }
   ],
   "source": [
    "class Shape():\n",
    "    \n",
    "    def getPerimeter(self):\n",
    "        pass\n",
    "    \n",
    "    def getArea(self):\n",
    "        pass\n",
    "    \n",
    "class Square(Shape):\n",
    "    \n",
    "    def __init__(self, size):\n",
    "        self.size = size\n",
    "    \n",
    "    def getPerimeter(self):\n",
    "        return 4*self.size\n",
    "    \n",
    "    def getArea(self):\n",
    "        return self.size**2\n",
    "    \n",
    "    \n",
    "mySquare = Square(10)\n",
    "if isinstance(mySquare, Shape):\n",
    "    print(mySquare.getPerimeter())"
   ]
  },
  {
   "cell_type": "markdown",
   "metadata": {},
   "source": [
    "For more information on classes in Python, see https://docs.python.org/3/tutorial/classes.html"
   ]
  },
  {
   "cell_type": "markdown",
   "metadata": {},
   "source": [
    "## Functions 3: Push and Pop\n",
    "Write your own class called MyPriorityQueue. This class should have two methods: **push** and **pop**. Push takes in a value and priority number and puts it in a dictionary. Pop returns the value with highest priority number and removes that value from the dictionary. "
   ]
  },
  {
   "cell_type": "code",
   "execution_count": 68,
   "metadata": {},
   "outputs": [],
   "source": [
    "class MyPriorityQueue():\n",
    "    \n",
    "    def __init__(self):\n",
    "        self.dictionary = {}\n",
    "        \n",
    "    def pop(self):\n",
    "        keyList= self.dictionary.keys()\n",
    "        keyList = keyList[::-1]\n",
    "        priority = keyList[0]\n",
    "        val = self.dictionary[priority]\n",
    "        del self.dictionary[priority]\n",
    "        return val\n",
    "            \n",
    "        \n",
    "    def push(self, value, num):\n",
    "        self.dictionary[num] = value\n",
    "    #Your Code Here\n",
    "\n",
    "\n",
    "\n",
    "\n",
    "    \n",
    "    \n",
    "    \n"
   ]
  },
  {
   "cell_type": "code",
   "execution_count": 69,
   "metadata": {},
   "outputs": [
    {
     "name": "stdout",
     "output_type": "stream",
     "text": [
      "The heights by great men reached and kept\n",
      "were not attained by sudden flight,\n",
      "but they, while their companions slept,\n",
      "were toiling upward in the night.\n",
      "-Longfellow\n"
     ]
    }
   ],
   "source": [
    "#Test Case\n",
    "myQueue = MyPriorityQueue()\n",
    "myQueue.push(\"were toiling upward in the night.\", 2)\n",
    "myQueue.push(\"The heights by great men reached and kept\", 5)\n",
    "myQueue.push(\"-Longfellow\", 1)\n",
    "myQueue.push(\"were not attained by sudden flight,\", 4)\n",
    "myQueue.push(\"but they, while their companions slept,\", 3)\n",
    "print(myQueue.pop())\n",
    "print(myQueue.pop())\n",
    "print(myQueue.pop())\n",
    "print(myQueue.pop())\n",
    "print(myQueue.pop())"
   ]
  },
  {
   "cell_type": "markdown",
   "metadata": {},
   "source": [
    "# -----------------------------------------------------"
   ]
  },
  {
   "cell_type": "markdown",
   "metadata": {},
   "source": [
    "### Importing Packages in Python\n",
    "Python has multiple ways to import packages to use in the system. The keywords you can use are **import**, **from**, and **as**."
   ]
  },
  {
   "cell_type": "code",
   "execution_count": 70,
   "metadata": {},
   "outputs": [
    {
     "name": "stdout",
     "output_type": "stream",
     "text": [
      "3.14159265359\n",
      "3.14159265359\n",
      "3.14159265359\n",
      "2.71828182846\n"
     ]
    }
   ],
   "source": [
    "import math\n",
    "print(math.pi)\n",
    "\n",
    "from math import pi\n",
    "print(pi)\n",
    "\n",
    "from math import pi as taco\n",
    "print(taco)\n",
    "\n",
    "from math import * #Import everything from the package\n",
    "print(e)"
   ]
  },
  {
   "cell_type": "markdown",
   "metadata": {},
   "source": [
    "One of the main packages we will use is called Numpy. It is a huge matrix processing library that is very helpful for image processing and graphics. The conventional import method looks like this."
   ]
  },
  {
   "cell_type": "code",
   "execution_count": 71,
   "metadata": {},
   "outputs": [
    {
     "name": "stdout",
     "output_type": "stream",
     "text": [
      "1.14.5\n"
     ]
    }
   ],
   "source": [
    "import numpy as np\n",
    "print(np.version.version)"
   ]
  },
  {
   "cell_type": "markdown",
   "metadata": {},
   "source": [
    "Make sure that you have at least version 1.08 running. If you can't get the package to work, make sure that you run *pip install numpy* or *conda install numpy* in the command line according to the setup instructions.\n",
    "\n",
    "Numpy allows you store matrices natively and do matrix operations in a single step.\n",
    "\n",
    "Let's look at a simple matrix."
   ]
  },
  {
   "cell_type": "code",
   "execution_count": 72,
   "metadata": {},
   "outputs": [
    {
     "name": "stdout",
     "output_type": "stream",
     "text": [
      "[[1 2]\n",
      " [3 4]]\n"
     ]
    }
   ],
   "source": [
    "import numpy as np\n",
    "a = np.matrix([[1, 2],[3,4]])\n",
    "\n",
    "print(a)"
   ]
  },
  {
   "cell_type": "code",
   "execution_count": 73,
   "metadata": {},
   "outputs": [
    {
     "name": "stdout",
     "output_type": "stream",
     "text": [
      "2\n"
     ]
    }
   ],
   "source": [
    "print(a[0,1]) #Row, Column zero-based indexing"
   ]
  },
  {
   "cell_type": "code",
   "execution_count": 74,
   "metadata": {},
   "outputs": [
    {
     "name": "stdout",
     "output_type": "stream",
     "text": [
      "[[2]\n",
      " [4]]\n",
      "()\n",
      "[[1 2]]\n"
     ]
    }
   ],
   "source": [
    "print(a[:,1]) #Grab all rows and the second column\n",
    "print()\n",
    "print(a[0,:]) #Grab everything in the first row"
   ]
  },
  {
   "cell_type": "markdown",
   "metadata": {},
   "source": [
    "Note that all splice notation works with Numpy arrays.\n",
    "\n",
    "You can also do operations on all elements of a Numpy array at the same time. This is shown below and is called vectorization (we will talk about this more later)."
   ]
  },
  {
   "cell_type": "code",
   "execution_count": 75,
   "metadata": {},
   "outputs": [
    {
     "name": "stdout",
     "output_type": "stream",
     "text": [
      "[[2 3]\n",
      " [4 5]]\n",
      "()\n",
      "[[ 3  6]\n",
      " [ 9 12]]\n"
     ]
    }
   ],
   "source": [
    "print(a + 1)\n",
    "print()\n",
    "print(3*a)"
   ]
  },
  {
   "cell_type": "code",
   "execution_count": 76,
   "metadata": {},
   "outputs": [
    {
     "name": "stdout",
     "output_type": "stream",
     "text": [
      "[[ 1  4]\n",
      " [ 9 16]]\n",
      "()\n",
      "[[ 7 10]\n",
      " [15 22]]\n"
     ]
    }
   ],
   "source": [
    "print(np.multiply(a,a)) #Element-wise multiply\n",
    "print()\n",
    "print(a*a) #True matrix multiply"
   ]
  },
  {
   "cell_type": "markdown",
   "metadata": {},
   "source": [
    "There are plenty of Numpy operations that we are not covering, but we will see more of these as we go throughout the class. For more details, go to https://docs.scipy.org/doc/numpy/reference/ .\n",
    "\n",
    "Now let's look at how we can import images as multidimensional arrays."
   ]
  },
  {
   "cell_type": "code",
   "execution_count": 80,
   "metadata": {},
   "outputs": [
    {
     "data": {
      "image/png": "[encoded data removed]",
      "text/plain": [
       "<matplotlib.figure.Figure at 0x7f60912ee650>"
      ]
     },
     "metadata": {},
     "output_type": "display_data"
    }
   ],
   "source": [
    "from matplotlib.pyplot import imread\n",
    "geese = imread('geese.jpg')\n",
    "\n",
    "import matplotlib.pyplot as plt\n",
    "plt.imshow(geese)\n",
    "plt.title(\"The Geese\")\n",
    "plt.show()"
   ]
  },
  {
   "cell_type": "code",
   "execution_count": 81,
   "metadata": {},
   "outputs": [
    {
     "name": "stdout",
     "output_type": "stream",
     "text": [
      "[129 126 107]\n"
     ]
    }
   ],
   "source": [
    "#Notice geese is a 3-dimensional Numpy array (row, col, rgb color).\n",
    "#In this case, it is 256 x 256 x 3\n",
    "#This means we can access it like any other list in Python.\n",
    "print(geese[0,0,:])"
   ]
  },
  {
   "cell_type": "markdown",
   "metadata": {},
   "source": [
    "## Functions 4: Working with Numpy\n",
    "Write the following three functions:\n",
    "1. **flip**: Takes in a numpy array, flips it upside down and returns it. (Note: You don't need a for loop and you may **not** use np.flip)\n",
    "2. **green_channel**: Takes in a 3-dimensional array and returns a 2-dimensional array containing only the green channel of the image."
   ]
  },
  {
   "cell_type": "code",
   "execution_count": 84,
   "metadata": {},
   "outputs": [],
   "source": [
    "#Your Code Here\n",
    "def flip(image):\n",
    "    print(image[::-1])\n",
    "    return None\n",
    "\n",
    "def green_channel(image):\n",
    "    return None\n"
   ]
  },
  {
   "cell_type": "code",
   "execution_count": 85,
   "metadata": {},
   "outputs": [
    {
     "name": "stdout",
     "output_type": "stream",
     "text": [
      "[[[180 206  81]\n",
      "  [156 182  55]\n",
      "  [117 144  15]\n",
      "  ...\n",
      "  [ 65  75  64]\n",
      "  [ 83  95  83]\n",
      "  [108 120 108]]\n",
      "\n",
      " [[138 164  39]\n",
      "  [ 92 118   0]\n",
      "  [117 144  15]\n",
      "  ...\n",
      "  [ 72  82  71]\n",
      "  [ 86  98  86]\n",
      "  [ 72  84  72]]\n",
      "\n",
      " [[ 75 103   0]\n",
      "  [ 95 123   0]\n",
      "  [119 148  22]\n",
      "  ...\n",
      "  [ 63  73  62]\n",
      "  [ 79  91  79]\n",
      "  [ 42  54  42]]\n",
      "\n",
      " ...\n",
      "\n",
      " [[159 156 137]\n",
      "  [164 161 142]\n",
      "  [144 141 122]\n",
      "  ...\n",
      "  [127 120 102]\n",
      "  [118 111  93]\n",
      "  [161 154 136]]\n",
      "\n",
      " [[170 167 148]\n",
      "  [160 157 138]\n",
      "  [166 163 144]\n",
      "  ...\n",
      "  [183 176 158]\n",
      "  [170 163 145]\n",
      "  [170 163 145]]\n",
      "\n",
      " [[129 126 107]\n",
      "  [161 158 139]\n",
      "  [171 168 149]\n",
      "  ...\n",
      "  [128 121 103]\n",
      "  [183 176 158]\n",
      "  [162 155 137]]]\n"
     ]
    },
    {
     "name": "stderr",
     "output_type": "stream",
     "text": [
      "/home/hector/anaconda2/envs/cs355env/lib/python2.7/site-packages/ipykernel_launcher.py:3: DeprecationWarning: `imread` is deprecated!\n",
      "`imread` is deprecated in SciPy 1.0.0.\n",
      "Use ``matplotlib.pyplot.imread`` instead.\n",
      "  This is separate from the ipykernel package so we can avoid doing imports until\n"
     ]
    },
    {
     "ename": "TypeError",
     "evalue": "Image data can not convert to float",
     "output_type": "error",
     "traceback": [
      "\u001b[0;31m---------------------------------------------------------------------------\u001b[0m",
      "\u001b[0;31mTypeError\u001b[0m                                 Traceback (most recent call last)",
      "\u001b[0;32m<ipython-input-85-db5c23548049>\u001b[0m in \u001b[0;36m<module>\u001b[0;34m()\u001b[0m\n\u001b[1;32m      4\u001b[0m \u001b[0;34m\u001b[0m\u001b[0m\n\u001b[1;32m      5\u001b[0m \u001b[0mtest1\u001b[0m \u001b[0;34m=\u001b[0m \u001b[0mflip\u001b[0m\u001b[0;34m(\u001b[0m\u001b[0mgeese\u001b[0m\u001b[0;34m)\u001b[0m\u001b[0;34m\u001b[0m\u001b[0m\n\u001b[0;32m----> 6\u001b[0;31m \u001b[0mplt\u001b[0m\u001b[0;34m.\u001b[0m\u001b[0mimshow\u001b[0m\u001b[0;34m(\u001b[0m\u001b[0mtest1\u001b[0m\u001b[0;34m)\u001b[0m\u001b[0;34m;\u001b[0m \u001b[0mplt\u001b[0m\u001b[0;34m.\u001b[0m\u001b[0mtitle\u001b[0m\u001b[0;34m(\u001b[0m\u001b[0;34m\"Flipped\"\u001b[0m\u001b[0;34m)\u001b[0m\u001b[0;34m;\u001b[0m \u001b[0mplt\u001b[0m\u001b[0;34m.\u001b[0m\u001b[0mshow\u001b[0m\u001b[0;34m(\u001b[0m\u001b[0;34m)\u001b[0m\u001b[0;34m\u001b[0m\u001b[0m\n\u001b[0m\u001b[1;32m      7\u001b[0m \u001b[0;34m\u001b[0m\u001b[0m\n\u001b[1;32m      8\u001b[0m \u001b[0mtest2\u001b[0m \u001b[0;34m=\u001b[0m \u001b[0mgreen_channel\u001b[0m\u001b[0;34m(\u001b[0m\u001b[0mgeese\u001b[0m\u001b[0;34m)\u001b[0m\u001b[0;34m\u001b[0m\u001b[0m\n",
      "\u001b[0;32m/home/hector/anaconda2/envs/cs355env/lib/python2.7/site-packages/matplotlib/pyplot.py\u001b[0m in \u001b[0;36mimshow\u001b[0;34m(X, cmap, norm, aspect, interpolation, alpha, vmin, vmax, origin, extent, shape, filternorm, filterrad, imlim, resample, url, hold, data, **kwargs)\u001b[0m\n\u001b[1;32m   3020\u001b[0m                         \u001b[0mfilternorm\u001b[0m\u001b[0;34m=\u001b[0m\u001b[0mfilternorm\u001b[0m\u001b[0;34m,\u001b[0m \u001b[0mfilterrad\u001b[0m\u001b[0;34m=\u001b[0m\u001b[0mfilterrad\u001b[0m\u001b[0;34m,\u001b[0m\u001b[0;34m\u001b[0m\u001b[0m\n\u001b[1;32m   3021\u001b[0m                         \u001b[0mimlim\u001b[0m\u001b[0;34m=\u001b[0m\u001b[0mimlim\u001b[0m\u001b[0;34m,\u001b[0m \u001b[0mresample\u001b[0m\u001b[0;34m=\u001b[0m\u001b[0mresample\u001b[0m\u001b[0;34m,\u001b[0m \u001b[0murl\u001b[0m\u001b[0;34m=\u001b[0m\u001b[0murl\u001b[0m\u001b[0;34m,\u001b[0m \u001b[0mdata\u001b[0m\u001b[0;34m=\u001b[0m\u001b[0mdata\u001b[0m\u001b[0;34m,\u001b[0m\u001b[0;34m\u001b[0m\u001b[0m\n\u001b[0;32m-> 3022\u001b[0;31m                         **kwargs)\n\u001b[0m\u001b[1;32m   3023\u001b[0m     \u001b[0;32mfinally\u001b[0m\u001b[0;34m:\u001b[0m\u001b[0;34m\u001b[0m\u001b[0m\n\u001b[1;32m   3024\u001b[0m         \u001b[0max\u001b[0m\u001b[0;34m.\u001b[0m\u001b[0mhold\u001b[0m\u001b[0;34m(\u001b[0m\u001b[0mwashold\u001b[0m\u001b[0;34m)\u001b[0m\u001b[0;34m\u001b[0m\u001b[0m\n",
      "\u001b[0;32m/home/hector/anaconda2/envs/cs355env/lib/python2.7/site-packages/matplotlib/__init__.py\u001b[0m in \u001b[0;36minner\u001b[0;34m(ax, *args, **kwargs)\u001b[0m\n\u001b[1;32m   1810\u001b[0m                     warnings.warn(msg % (label_namer, func.__name__),\n\u001b[1;32m   1811\u001b[0m                                   RuntimeWarning, stacklevel=2)\n\u001b[0;32m-> 1812\u001b[0;31m             \u001b[0;32mreturn\u001b[0m \u001b[0mfunc\u001b[0m\u001b[0;34m(\u001b[0m\u001b[0max\u001b[0m\u001b[0;34m,\u001b[0m \u001b[0;34m*\u001b[0m\u001b[0margs\u001b[0m\u001b[0;34m,\u001b[0m \u001b[0;34m**\u001b[0m\u001b[0mkwargs\u001b[0m\u001b[0;34m)\u001b[0m\u001b[0;34m\u001b[0m\u001b[0m\n\u001b[0m\u001b[1;32m   1813\u001b[0m         \u001b[0mpre_doc\u001b[0m \u001b[0;34m=\u001b[0m \u001b[0minner\u001b[0m\u001b[0;34m.\u001b[0m\u001b[0m__doc__\u001b[0m\u001b[0;34m\u001b[0m\u001b[0m\n\u001b[1;32m   1814\u001b[0m         \u001b[0;32mif\u001b[0m \u001b[0mpre_doc\u001b[0m \u001b[0;32mis\u001b[0m \u001b[0mNone\u001b[0m\u001b[0;34m:\u001b[0m\u001b[0;34m\u001b[0m\u001b[0m\n",
      "\u001b[0;32m/home/hector/anaconda2/envs/cs355env/lib/python2.7/site-packages/matplotlib/axes/_axes.py\u001b[0m in \u001b[0;36mimshow\u001b[0;34m(self, X, cmap, norm, aspect, interpolation, alpha, vmin, vmax, origin, extent, shape, filternorm, filterrad, imlim, resample, url, **kwargs)\u001b[0m\n\u001b[1;32m   4945\u001b[0m                               resample=resample, **kwargs)\n\u001b[1;32m   4946\u001b[0m \u001b[0;34m\u001b[0m\u001b[0m\n\u001b[0;32m-> 4947\u001b[0;31m         \u001b[0mim\u001b[0m\u001b[0;34m.\u001b[0m\u001b[0mset_data\u001b[0m\u001b[0;34m(\u001b[0m\u001b[0mX\u001b[0m\u001b[0;34m)\u001b[0m\u001b[0;34m\u001b[0m\u001b[0m\n\u001b[0m\u001b[1;32m   4948\u001b[0m         \u001b[0mim\u001b[0m\u001b[0;34m.\u001b[0m\u001b[0mset_alpha\u001b[0m\u001b[0;34m(\u001b[0m\u001b[0malpha\u001b[0m\u001b[0;34m)\u001b[0m\u001b[0;34m\u001b[0m\u001b[0m\n\u001b[1;32m   4949\u001b[0m         \u001b[0;32mif\u001b[0m \u001b[0mim\u001b[0m\u001b[0;34m.\u001b[0m\u001b[0mget_clip_path\u001b[0m\u001b[0;34m(\u001b[0m\u001b[0;34m)\u001b[0m \u001b[0;32mis\u001b[0m \u001b[0mNone\u001b[0m\u001b[0;34m:\u001b[0m\u001b[0;34m\u001b[0m\u001b[0m\n",
      "\u001b[0;32m/home/hector/anaconda2/envs/cs355env/lib/python2.7/site-packages/matplotlib/image.py\u001b[0m in \u001b[0;36mset_data\u001b[0;34m(self, A)\u001b[0m\n\u001b[1;32m    447\u001b[0m         if (self._A.dtype != np.uint8 and\n\u001b[1;32m    448\u001b[0m                 not np.can_cast(self._A.dtype, np.float)):\n\u001b[0;32m--> 449\u001b[0;31m             \u001b[0;32mraise\u001b[0m \u001b[0mTypeError\u001b[0m\u001b[0;34m(\u001b[0m\u001b[0;34m\"Image data can not convert to float\"\u001b[0m\u001b[0;34m)\u001b[0m\u001b[0;34m\u001b[0m\u001b[0m\n\u001b[0m\u001b[1;32m    450\u001b[0m \u001b[0;34m\u001b[0m\u001b[0m\n\u001b[1;32m    451\u001b[0m         if (self._A.ndim not in (2, 3) or\n",
      "\u001b[0;31mTypeError\u001b[0m: Image data can not convert to float"
     ]
    },
    {
     "data": {
      "image/png": "[encoded data removed]",
      "text/plain": [
       "<matplotlib.figure.Figure at 0x7f608fb3c890>"
      ]
     },
     "metadata": {},
     "output_type": "display_data"
    }
   ],
   "source": [
    "#Test Cases\n",
    "from scipy.ndimage import imread\n",
    "geese = imread('geese.jpg')\n",
    "\n",
    "test1 = flip(geese)\n",
    "plt.imshow(test1); plt.title(\"Flipped\"); plt.show()\n",
    "\n",
    "test2 = green_channel(geese)\n",
    "plt.imshow(test2, cmap=\"Greys_r\"); plt.title(\"The Grey Value of the Green Channel\"); plt.show()"
   ]
  },
  {
   "cell_type": "code",
   "execution_count": null,
   "metadata": {},
   "outputs": [],
   "source": []
  }
 ],
 "metadata": {
  "kernelspec": {
   "display_name": "Python 2",
   "language": "python",
   "name": "python2"
  },
  "language_info": {
   "codemirror_mode": {
    "name": "ipython",
    "version": 2
   },
   "file_extension": ".py",
   "mimetype": "text/x-python",
   "name": "python",
   "nbconvert_exporter": "python",
   "pygments_lexer": "ipython2",
   "version": "2.7.15"
  }
 },
 "nbformat": 4,
 "nbformat_minor": 2
}
