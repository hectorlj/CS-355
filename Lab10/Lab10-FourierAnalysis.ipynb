{
 "cells": [
  {
   "cell_type": "markdown",
   "metadata": {
    "collapsed": true
   },
   "source": [
    "# Fourier Analysis Lab\n",
    "All  of  the  programming  assignments  are  to  be  done  in  Python  using  additional  libraries  specified  in  the  assignments.  There  are many  libraries  available,  some  of  which  we  will  be  using,  and  you  are  welcome  to  use  them  with  one  exception:  if  the  library  or  a  function  within  it  performs  the  specific  function  you  are  asked  to  code,  you  may  not  use  that  other  than  perhaps  as  a  reference  to  compare  against. All  of  the  code  you  submit  must  be  your  own. You are welcome to turn in a completed jupyter notebook."
   ]
  },
  {
   "cell_type": "markdown",
   "metadata": {},
   "source": [
    "## The Basics\n",
    "\n",
    "We have discussed the Fourier Transform in great detail in class. In this lab, we will implement many of the practical applications of the Fourier Transform. In order to do this, we need to know how the Fourier Transform is implemented in the Numpy library.\n",
    "\n",
    "The following code can be used to perform the Fourier Transform and Inverse Fourier Transform."
   ]
  },
  {
   "cell_type": "code",
   "execution_count": null,
   "metadata": {},
   "outputs": [],
   "source": [
    "import numpy as np\n",
    "import matplotlib.pyplot as plt\n",
    "\n",
    "#Initialize Data\n",
    "data = np.zeros(300)\n",
    "data[125:175] = 1\n",
    "plt.plot(data);plt.title(\"Spatial Function\");plt.show()\n",
    "\n",
    "#Peform Fourier Transform\n",
    "fourier = np.fft.fft(data)\n",
    "#Plot the complex magnitude of the fourier transform\n",
    "plt.plot(np.absolute(fourier));plt.title(\"Frequency Function\");plt.show()\n",
    "\n",
    "#Perform Inverse Fourier Transform\n",
    "original = np.fft.ifft(fourier)\n",
    "original = np.real(original)\n",
    "plt.plot(original);plt.title(\"Back to Spatial\");plt.show()"
   ]
  },
  {
   "cell_type": "markdown",
   "metadata": {},
   "source": [
    "This is a very simple way to access and manipulate the fourier transform. Note that the frequency function defaults to the non centralized version for calculation. For visualization, you may choose to plot a centralized frequency function."
   ]
  },
  {
   "cell_type": "code",
   "execution_count": null,
   "metadata": {
    "collapsed": true
   },
   "outputs": [],
   "source": [
    "#Centralize the plot\n",
    "N = len(fourier)\n",
    "xvals = range(int(-N/2+1),int(N/2+1))\n",
    "\n",
    "#Take the second half of the data, reverse and append it to the front\n",
    "result = np.fft.fftshift(fourier)\n",
    "\n",
    "plt.plot(xvals,np.absolute(result));plt.title(\"Centralized Fourier\");plt.show()"
   ]
  },
  {
   "cell_type": "markdown",
   "metadata": {},
   "source": [
    "You can also easily perform the fourier transform on a two dimensional set of data as well. This will be very helpful for doing transforms on our images."
   ]
  },
  {
   "cell_type": "code",
   "execution_count": null,
   "metadata": {
    "collapsed": true
   },
   "outputs": [],
   "source": [
    "#Initialize Data\n",
    "data2 = np.zeros((300,300))\n",
    "data2[140:160,130:170] = 1\n",
    "plt.imshow(data2,cmap=\"gray\",interpolation=\"none\");plt.title(\"Spatial Function\");plt.show()\n",
    "\n",
    "#Peform Fourier Transform\n",
    "fourier2 = np.fft.fft2(data2)\n",
    "#Plot the complex magnitude of the fourier transform\n",
    "plt.imshow(np.absolute(fourier2),cmap=\"gray\",interpolation=\"none\");plt.title(\"Frequency Function\");plt.show()\n",
    "\n",
    "#Perform Inverse Fourier Transform\n",
    "original2 = np.fft.ifft2(fourier2)\n",
    "original2 = np.absolute(original2)\n",
    "plt.imshow(original2,cmap=\"gray\",interpolation=\"none\");plt.title(\"Back to Spatial\");plt.show()"
   ]
  },
  {
   "cell_type": "markdown",
   "metadata": {},
   "source": [
    "Again, you may also choose to centralize the fourier transform in 2D."
   ]
  },
  {
   "cell_type": "code",
   "execution_count": null,
   "metadata": {
    "collapsed": true
   },
   "outputs": [],
   "source": [
    "#Centralize the plot\n",
    "M,N = np.shape(fourier2)\n",
    "xvals = range(int(-N/2+1),int(N/2+1))\n",
    "yvals = range(int(-M/2+1),int(M/2+1))\n",
    "\n",
    "result2 = np.fft.fftshift(fourier2)\n",
    "\n",
    "plt.imshow(np.absolute(result2),cmap=\"gray\",interpolation=\"none\",extent=[xvals[0],xvals[-1],yvals[0],yvals[-1]])\n",
    "plt.title(\"Centralized Fourier\");plt.show()"
   ]
  },
  {
   "cell_type": "markdown",
   "metadata": {},
   "source": [
    "It will also be useful to be able to filter frequencies in the frequency domain. To help you with the basic structure of filtering programs, an example of the filtering pipeline is shown below."
   ]
  },
  {
   "cell_type": "code",
   "execution_count": null,
   "metadata": {
    "collapsed": true
   },
   "outputs": [],
   "source": [
    "# Setup Signal\n",
    "data = np.zeros(300)\n",
    "data[125:175] = 1\n",
    "\n",
    "f = data\n",
    "\n",
    "# Forward FFT\n",
    "# Do the forward FFT \n",
    "F = np.fft.fft(f)\n",
    "\n",
    "# Now create your transfer function H in the frequncy domain\n",
    "H = np.zeros( F.shape, dtype=np.float32 )\n",
    "\n",
    "\n",
    "\n",
    "#H = <<< Fill in your filter here >>>\n",
    "\n",
    "#If your filter doesn't start at zero, shift if appropcriately\n",
    "H = np.fft.fftshift(H)\n",
    "\n",
    "\n",
    "\n",
    "# Do frequency space filtering here...\n",
    "G = np.zeros( F.shape, dtype='complex' )\n",
    "G = F * H # for example given a transfer function H\n",
    "\n",
    "# Inverse FFT\n",
    "# Convert back to spatial domain\n",
    "g = np.fft.ifft( G )\n",
    "\n",
    "#Take only the real values\n",
    "g = np.real(g)\n"
   ]
  },
  {
   "cell_type": "markdown",
   "metadata": {},
   "source": [
    "Now that you have the basics down, you can start manipulating the data in useful ways.\n",
    "\n",
    "To get full credit for this lab. Complete each of the tasks below."
   ]
  },
  {
   "cell_type": "markdown",
   "metadata": {
    "collapsed": true
   },
   "source": [
    "## Task 1: 1-D Filtering\n",
    "\n",
    "Design a 1-D low-pass filter to smooth a signal. For this task, filter the data from Signal.txt using a low pass filter of your design. It may be helpful to reference the example script shown above."
   ]
  },
  {
   "cell_type": "code",
   "execution_count": null,
   "metadata": {
    "collapsed": true
   },
   "outputs": [],
   "source": [
    "import matplotlib.pyplot as plt\n",
    "\n",
    "data = np.loadtxt(\"Signal.txt\")\n",
    "\n",
    "plt.plot(data);plt.title(\"Original Data\");plt.show()"
   ]
  },
  {
   "cell_type": "markdown",
   "metadata": {},
   "source": [
    "The following code defining a 1D Gaussian may be helfpul:"
   ]
  },
  {
   "cell_type": "code",
   "execution_count": null,
   "metadata": {
    "collapsed": true
   },
   "outputs": [],
   "source": [
    "def gaussian(x, mu, sig):\n",
    "    return np.exp(-np.power(x - mu, 2.) / (2 * np.power(sig, 2.)))"
   ]
  },
  {
   "cell_type": "markdown",
   "metadata": {},
   "source": [
    "Hint: Use np.linspace to define your x values from -1 to 1. Then you can adjust the mean and standard deviation parameters as needed."
   ]
  },
  {
   "cell_type": "markdown",
   "metadata": {},
   "source": [
    "## Task 2: Filtering Sound\n",
    "\n",
    "You are given a noisy sound file called **NoisyAudio.wav**. Using a filter similar to the one you made in Task 1, remove as much noise as possible from the audio clip. You will not be able to remove all the noise (just like with real data), so pick parameters of the filter that you feel work best. You may also scale your result to make the final audio a little bit louder (*But beware of clipping!!!*).\n",
    "\n",
    "Reminder: If sounddevice doesn't import, simply call *pip install sounddevice*\n",
    "\n",
    "Note: Mac users may need to install some additional packages to get sound device working. Try the following commands if needed:\n",
    "\n",
    "*brew install portaudio*\n",
    "\n",
    "*pip install pyaudio*"
   ]
  },
  {
   "cell_type": "code",
   "execution_count": null,
   "metadata": {},
   "outputs": [],
   "source": [
    "import time\n",
    "from scipy.io import wavfile\n",
    "import sounddevice as sd\n",
    "\n",
    "#Import data and convert to Mono channel audio\n",
    "fs, data = wavfile.read(\"NoisyAudio.wav\")\n",
    "data = data[:,0]\n",
    "\n",
    "#Play the audio\n",
    "sd.play(data, fs)\n",
    "\n",
    "#Use this during testing so you don't have to \n",
    "#listen to the full sound file\n",
    "time.sleep(7)\n",
    "sd.stop()"
   ]
  },
  {
   "cell_type": "markdown",
   "metadata": {},
   "source": [
    "## Task 3: 2D Blurring and Sharpening\n",
    "\n",
    "In previous labs, we have performed blurring and sharpening of 2D images. We did this by using specific kernels with this image. These processes can also be done more continuously using a filters in the frequency domain.\n",
    "\n",
    "For a 2D image, a blurring effect can be implemented by applying a low-pass filter to the image in the frequency domain. In similar fashion, a sharpening effect can be implemented by applying a high-boost filter to the image in the frequency domain.\n",
    "\n",
    "**Implement a blurring and sharpening effect using the frequency domain on the example grayscale image.** \n",
    "\n",
    "Again, to help you with the basic structure of filtering programs, reference the example script in **The Basics** section, but use the 2D numpy functions (np.fft.fft2 and np.fft.ifft2).\n",
    "\n",
    "Lastly, make sure to clip out negative values from your result image."
   ]
  },
  {
   "cell_type": "code",
   "execution_count": null,
   "metadata": {
    "collapsed": true
   },
   "outputs": [],
   "source": [
    "from scipy.ndimage import imread\n",
    "\n",
    "filename = \"example.jpg\"\n",
    "im = imread(filename, mode =\"L\")\n",
    "\n",
    "plt.imshow(im, cmap='gray', interpolation='none')\n",
    "plt.show()"
   ]
  },
  {
   "cell_type": "markdown",
   "metadata": {},
   "source": [
    "The following code for making a 2D Gaussian may be helpful."
   ]
  },
  {
   "cell_type": "code",
   "execution_count": null,
   "metadata": {},
   "outputs": [],
   "source": [
    "X,Y=np.meshgrid(np.linspace(-10,10,100),np.linspace(-10,10,100));\n",
    "mu,sigma=0,1;\n",
    "H=np.exp(-((X-mu)**2+(Y-mu)**2)/(2.0*sigma**2))\n",
    "\n",
    "plt.imshow(H, cmap='gray', interpolation='none', extent = (-10, 10, 10, -10))\n",
    "plt.show()"
   ]
  },
  {
   "cell_type": "markdown",
   "metadata": {},
   "source": [
    "## Task 4: Interference Pattern\n",
    "\n",
    "The image **interfere.png** has an interference pattern of unknown spatial frequency, orientation and magnitude (it is, however, a single frequency).  \n",
    "\n",
    "**Option 1** (for 60% credit): Put the image into the frequency domain and manually determine which frequency is causing the interference. Eliminate that frequency noise and then place the image back into the spatial domain to get a smooth image.\n",
    "\n",
    "Hints:\n",
    "- The frequency you’re looking for isn’t necessarily the one with the greatest magnitude, it’s the one that is most “out of place”.\n",
    "- To spot the \"out of place frequency\", you will want to zero out the mean value of the function (the frequency at (0,0) ), which is much larger than any other value in the frequency domain. Once you zero that out, it should be clear to see where the outlier frequency is located (Use *%matplotlib notebook* and zoom in to get the pixel value).\n",
    "- Don’t just zero the frequency – having that frequency missing can be just as bad as having too much of it.  Try to estimate a reasonable magnitude using similar frequencies.\n",
    "- Remember that you’ll have to eliminate both that frequency and its inverse frequency. \n",
    "\n",
    "\n",
    "**Option 2** (for 100% credit): Write a program that automatically finds and eliminates the noisy frequency. This can be done by writing a convolution kernel that specifically looks for anamolies in the data. The setup of the code might look something like this:\n",
    "\n",
    "1. Place the image into the frequency domain.\n",
    "2. Write a special 3x3 kernel that makes any frequency that is much higher than it's neighbors positive and everything else negative (What would that look like?).\n",
    "3. Use your general convolution code from the image processing lab to convolve over the absolute values of the frequency domain.\n",
    "4. For every positive value in the result, make the corresponding frequency equal to the average or median of the neighboring frequencies.\n",
    "5. Place the image back into the spatial domain.\n",
    "\n",
    "Make sure that you do this automatically. Your program should work for any single-frequency interference in this fashion.\n"
   ]
  },
  {
   "cell_type": "code",
   "execution_count": null,
   "metadata": {
    "collapsed": true
   },
   "outputs": [],
   "source": [
    "from scipy.ndimage import imread\n",
    "\n",
    "filename = \"interfere.png\"\n",
    "im = imread(filename, mode=\"L\")\n",
    "\n",
    "plt.imshow(im, cmap='gray', interpolation='none')\n",
    "plt.show()"
   ]
  },
  {
   "cell_type": "code",
   "execution_count": null,
   "metadata": {
    "collapsed": true
   },
   "outputs": [],
   "source": []
  },
  {
   "cell_type": "code",
   "execution_count": null,
   "metadata": {
    "collapsed": true
   },
   "outputs": [],
   "source": []
  }
 ],
 "metadata": {
  "kernelspec": {
   "display_name": "Python 3",
   "language": "python",
   "name": "python3"
  },
  "language_info": {
   "codemirror_mode": {
    "name": "ipython",
    "version": 3
   },
   "file_extension": ".py",
   "mimetype": "text/x-python",
   "name": "python",
   "nbconvert_exporter": "python",
   "pygments_lexer": "ipython3",
   "version": "3.6.2"
  }
 },
 "nbformat": 4,
 "nbformat_minor": 2
}
